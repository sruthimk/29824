{
  "nbformat": 4,
  "nbformat_minor": 0,
  "metadata": {
    "colab": {
      "provenance": [],
      "authorship_tag": "ABX9TyP9V2CP+VQ0rDx+WhNa+qbt",
      "include_colab_link": true
    },
    "kernelspec": {
      "name": "python3",
      "display_name": "Python 3"
    },
    "language_info": {
      "name": "python"
    }
  },
  "cells": [
    {
      "cell_type": "markdown",
      "metadata": {
        "id": "view-in-github",
        "colab_type": "text"
      },
      "source": [
        "<a href=\"https://colab.research.google.com/github/sruthimk/29824/blob/main/NLP.ipynb\" target=\"_parent\"><img src=\"https://colab.research.google.com/assets/colab-badge.svg\" alt=\"Open In Colab\"/></a>"
      ]
    },
    {
      "cell_type": "code",
      "execution_count": 11,
      "metadata": {
        "colab": {
          "base_uri": "https://localhost:8080/"
        },
        "collapsed": true,
        "id": "MMJhBpPcKd2F",
        "outputId": "1779e9b3-d1a3-4214-e838-d63e253683f5"
      },
      "outputs": [
        {
          "output_type": "stream",
          "name": "stdout",
          "text": [
            "\n",
            "\n",
            "--Tokenization : Sentence--\n"
          ]
        },
        {
          "output_type": "stream",
          "name": "stderr",
          "text": [
            "[nltk_data] Downloading package punkt_tab to /root/nltk_data...\n",
            "[nltk_data]   Package punkt_tab is already up-to-date!\n"
          ]
        },
        {
          "output_type": "execute_result",
          "data": {
            "text/plain": [
              "['The Indian Premier League (IPL) is a professional Twenty20 cricket league in India contested during March or April and May of every year by eight teams representing eight different cities or states in India.',\n",
              " 'The league was founded by the Board of Control for Cricket in India (BCCI) in 2007.',\n",
              " 'The IPL has been the most attended cricket league in the world and ranks sixth among all sports leagues.',\n",
              " 'It is a very popular league and enjoys a massive fan following across the globe']"
            ]
          },
          "metadata": {},
          "execution_count": 11
        }
      ],
      "source": [
        "import nltk\n",
        "nltk.download('punkt_tab')\n",
        "data=\"The Indian Premier League (IPL) is a professional Twenty20 cricket league in India contested during March or April and May of every year by eight teams representing eight different cities or states in India. The league was founded by the Board of Control for Cricket in India (BCCI) in 2007. The IPL has been the most attended cricket league in the world and ranks sixth among all sports leagues. It is a very popular league and enjoys a massive fan following across the globe\"\n",
        "print('\\n')\n",
        "print('--Tokenization : Sentence--')\n",
        "nltk.sent_tokenize(data)\n"
      ]
    },
    {
      "cell_type": "code",
      "source": [
        "\n",
        "nltk.download('stopwords')\n",
        "from nltk.corpus import stopwords\n",
        "stop_words=stopwords.words('english')\n",
        "print(stop_words)"
      ],
      "metadata": {
        "colab": {
          "base_uri": "https://localhost:8080/"
        },
        "id": "R_n4VRRXMJ-g",
        "outputId": "88040427-c3d2-4426-e2de-230e2fd7c308"
      },
      "execution_count": 16,
      "outputs": [
        {
          "output_type": "stream",
          "name": "stdout",
          "text": [
            "['a', 'about', 'above', 'after', 'again', 'against', 'ain', 'all', 'am', 'an', 'and', 'any', 'are', 'aren', \"aren't\", 'as', 'at', 'be', 'because', 'been', 'before', 'being', 'below', 'between', 'both', 'but', 'by', 'can', 'couldn', \"couldn't\", 'd', 'did', 'didn', \"didn't\", 'do', 'does', 'doesn', \"doesn't\", 'doing', 'don', \"don't\", 'down', 'during', 'each', 'few', 'for', 'from', 'further', 'had', 'hadn', \"hadn't\", 'has', 'hasn', \"hasn't\", 'have', 'haven', \"haven't\", 'having', 'he', \"he'd\", \"he'll\", 'her', 'here', 'hers', 'herself', \"he's\", 'him', 'himself', 'his', 'how', 'i', \"i'd\", 'if', \"i'll\", \"i'm\", 'in', 'into', 'is', 'isn', \"isn't\", 'it', \"it'd\", \"it'll\", \"it's\", 'its', 'itself', \"i've\", 'just', 'll', 'm', 'ma', 'me', 'mightn', \"mightn't\", 'more', 'most', 'mustn', \"mustn't\", 'my', 'myself', 'needn', \"needn't\", 'no', 'nor', 'not', 'now', 'o', 'of', 'off', 'on', 'once', 'only', 'or', 'other', 'our', 'ours', 'ourselves', 'out', 'over', 'own', 're', 's', 'same', 'shan', \"shan't\", 'she', \"she'd\", \"she'll\", \"she's\", 'should', 'shouldn', \"shouldn't\", \"should've\", 'so', 'some', 'such', 't', 'than', 'that', \"that'll\", 'the', 'their', 'theirs', 'them', 'themselves', 'then', 'there', 'these', 'they', \"they'd\", \"they'll\", \"they're\", \"they've\", 'this', 'those', 'through', 'to', 'too', 'under', 'until', 'up', 've', 'very', 'was', 'wasn', \"wasn't\", 'we', \"we'd\", \"we'll\", \"we're\", 'were', 'weren', \"weren't\", \"we've\", 'what', 'when', 'where', 'which', 'while', 'who', 'whom', 'why', 'will', 'with', 'won', \"won't\", 'wouldn', \"wouldn't\", 'y', 'you', \"you'd\", \"you'll\", 'your', \"you're\", 'yours', 'yourself', 'yourselves', \"you've\"]\n"
          ]
        },
        {
          "output_type": "stream",
          "name": "stderr",
          "text": [
            "[nltk_data] Downloading package stopwords to /root/nltk_data...\n",
            "[nltk_data]   Package stopwords is already up-to-date!\n"
          ]
        }
      ]
    },
    {
      "cell_type": "code",
      "source": [
        "import nltk\n",
        "import string\n",
        "from nltk.corpus import stopwords\n",
        "stop_words=stopwords.words('english')\n",
        "punct=string.punctuation\n",
        "\n",
        "clean_data=[]\n",
        "for word in nltk.word_tokenize(data):\n",
        "  if word not in stop_words and word not in punct:\n",
        "    clean_data.append(word)\n",
        "print(clean_data)"
      ],
      "metadata": {
        "colab": {
          "base_uri": "https://localhost:8080/"
        },
        "id": "iOZS1QxUMd4n",
        "outputId": "9393c193-5da3-4865-f409-62c36fa17b30"
      },
      "execution_count": 17,
      "outputs": [
        {
          "output_type": "stream",
          "name": "stdout",
          "text": [
            "['The', 'Indian', 'Premier', 'League', 'IPL', 'professional', 'Twenty20', 'cricket', 'league', 'India', 'contested', 'March', 'April', 'May', 'every', 'year', 'eight', 'teams', 'representing', 'eight', 'different', 'cities', 'states', 'India', 'The', 'league', 'founded', 'Board', 'Control', 'Cricket', 'India', 'BCCI', '2007', 'The', 'IPL', 'attended', 'cricket', 'league', 'world', 'ranks', 'sixth', 'among', 'sports', 'leagues', 'It', 'popular', 'league', 'enjoys', 'massive', 'fan', 'following', 'across', 'globe']\n"
          ]
        }
      ]
    },
    {
      "cell_type": "code",
      "source": [
        "data=\"Les fleurs, avec leurs couleurs vibrantes et leurs parfums délicats, sont parmi les plus belles créations de la nature. Elles égayent nos jardins, nos maisons et nos vies. Chaque fleur a sa propre forme, sa propre couleur et son propre parfum, ce qui les rend toutes uniques et fascinantes. Elles symbolisent la beauté, la joie et la vie, et nous rappellent la fragilité et la préciosité de la nature\"\n",
        "print('\\n')\n",
        "print('--Tokenization : Sentence--')\n",
        "nltk.sent_tokenize(data)\n",
        "\n",
        "stop_words=stopwords.words('french')\n",
        "punct=string.punctuation\n",
        "clean_data=[]\n",
        "for word in nltk.word_tokenize(data):\n",
        "  if word not in stop_words and word not in punct:\n",
        "    clean_data.append(word)\n",
        "print(clean_data)"
      ],
      "metadata": {
        "colab": {
          "base_uri": "https://localhost:8080/"
        },
        "id": "XRu354YAV-ZK",
        "outputId": "547f3327-30d6-49a9-bd69-57f2234d31a1"
      },
      "execution_count": 21,
      "outputs": [
        {
          "output_type": "stream",
          "name": "stdout",
          "text": [
            "\n",
            "\n",
            "--Tokenization : Sentence--\n",
            "['Les', 'fleurs', 'leurs', 'couleurs', 'vibrantes', 'leurs', 'parfums', 'délicats', 'parmi', 'plus', 'belles', 'créations', 'nature', 'Elles', 'égayent', 'jardins', 'maisons', 'vies', 'Chaque', 'fleur', 'a', 'propre', 'forme', 'propre', 'couleur', 'propre', 'parfum', 'rend', 'toutes', 'uniques', 'fascinantes', 'Elles', 'symbolisent', 'beauté', 'joie', 'vie', 'rappellent', 'fragilité', 'préciosité', 'nature']\n"
          ]
        }
      ]
    },
    {
      "cell_type": "code",
      "source": [
        ""
      ],
      "metadata": {
        "id": "o4BAHFtcZaYM"
      },
      "execution_count": null,
      "outputs": []
    }
  ]
}